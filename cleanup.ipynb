{
 "cells": [
  {
   "cell_type": "code",
   "execution_count": 8,
   "metadata": {},
   "outputs": [],
   "source": [
    "# Make sure to pip install pyarrow and fastparquet\n",
    "import pandas as pd\n",
    "import pickle"
   ]
  },
  {
   "cell_type": "code",
   "execution_count": 2,
   "metadata": {},
   "outputs": [
    {
     "name": "stdout",
     "output_type": "stream",
     "text": [
      "             timestamp  unit_id     unit_type  location_x  location_y  \\\n",
      "0  2023-06-03 03:19:15   919214  tie_silencer         2.0         5.0   \n",
      "1  2023-02-24 13:50:40  9467154  stormtrooper         9.0         0.0   \n",
      "2  2023-03-29 19:54:55  6585778  tie_silencer         0.0         6.0   \n",
      "3  2023-04-30 00:58:11  3878023  tie_silencer         4.0         2.0   \n",
      "4  2023-04-10 22:00:26  5537117         at-st         6.0         8.0   \n",
      "\n",
      "   destination_x  destination_y    homeworld  \n",
      "0              9              3  Aleen Minor  \n",
      "1              9              1    Malastare  \n",
      "2              5              9      Serenno  \n",
      "3              9              9         Tund  \n",
      "4              5              8        Skako  \n"
     ]
    }
   ],
   "source": [
    "data = pd.read_csv('troop_movements_1m.csv')\n",
    "\n",
    "print(data.head())"
   ]
  },
  {
   "cell_type": "code",
   "execution_count": 3,
   "metadata": {},
   "outputs": [
    {
     "data": {
      "text/plain": [
       "0         tie_silencer\n",
       "1         stormtrooper\n",
       "2         tie_silencer\n",
       "3         tie_silencer\n",
       "4                at-st\n",
       "              ...     \n",
       "999995     tie_fighter\n",
       "999996           at-at\n",
       "999997     tie_fighter\n",
       "999998     tie_fighter\n",
       "999999           at-st\n",
       "Name: unit_type, Length: 1000000, dtype: object"
      ]
     },
     "execution_count": 3,
     "metadata": {},
     "output_type": "execute_result"
    }
   ],
   "source": [
    "data['unit_type'].str.replace('invalid_unit', 'unknown')"
   ]
  },
  {
   "cell_type": "code",
   "execution_count": 4,
   "metadata": {},
   "outputs": [],
   "source": [
    "data['location_x'] = data['location_x'].ffill()\n",
    "data['location_y'] = data['location_y'].ffill()"
   ]
  },
  {
   "cell_type": "code",
   "execution_count": 5,
   "metadata": {},
   "outputs": [],
   "source": [
    "data.to_parquet(\"troop_movements_1m.parquet\")\n",
    "data_loaded = pd.read_parquet(\"troop_movements_1m.parquet\")"
   ]
  },
  {
   "cell_type": "code",
   "execution_count": null,
   "metadata": {},
   "outputs": [
    {
     "name": "stdout",
     "output_type": "stream",
     "text": [
      "homeworld_Alderaan               23660\n",
      "homeworld_Aleen Minor            23859\n",
      "homeworld_Bestine IV             23952\n",
      "homeworld_Cerea                  23885\n",
      "homeworld_Champala               23696\n",
      "homeworld_Chandrila              23889\n",
      "homeworld_Concord Dawn           23939\n",
      "homeworld_Corellia               23753\n",
      "homeworld_Dagobah                23936\n",
      "homeworld_Dathomir               24000\n",
      "homeworld_Dorin                  23851\n",
      "homeworld_Eriadu                 23587\n",
      "homeworld_Glee Anselm            23805\n",
      "homeworld_Haruun Kal             23792\n",
      "homeworld_Iktotch                23768\n",
      "homeworld_Iridonia               23686\n",
      "homeworld_Kalee                  23721\n",
      "homeworld_Kashyyyk               23592\n",
      "homeworld_Malastare              23670\n",
      "homeworld_Mirial                 23868\n",
      "homeworld_Mon Cala               23813\n",
      "homeworld_Muunilinst             23969\n",
      "homeworld_Naboo                  23759\n",
      "homeworld_Ojom                   23692\n",
      "homeworld_Quermia                23849\n",
      "homeworld_Rodia                  23653\n",
      "homeworld_Ryloth                 23888\n",
      "homeworld_Serenno                23704\n",
      "homeworld_Shili                  23644\n",
      "homeworld_Skako                  23700\n",
      "homeworld_Socorro                23681\n",
      "homeworld_Stewjon                23995\n",
      "homeworld_Sullust                24100\n",
      "homeworld_Tatooine               24180\n",
      "homeworld_Tholoth                23545\n",
      "homeworld_Toydaria               23836\n",
      "homeworld_Trandosha              23857\n",
      "homeworld_Troiken                23959\n",
      "homeworld_Tund                   23967\n",
      "homeworld_Umbara                 23701\n",
      "homeworld_Vulpter                23637\n",
      "homeworld_Zolan                  23962\n",
      "unit_type_at-at                 142724\n",
      "unit_type_at-st                 142554\n",
      "unit_type_resistance_soldier    142647\n",
      "unit_type_stormtrooper          142611\n",
      "unit_type_tie_fighter           142753\n",
      "unit_type_tie_silencer          143216\n",
      "unit_type_unknown                    0\n",
      "unit_type_x-wing                142494\n",
      "dtype: int64\n"
     ]
    }
   ],
   "source": [
    "with open(\"trained_model.pkl\", \"rb\") as file:\n",
    "    model = pickle.load(file)\n",
    "\n",
    "X = pd.get_dummies(data_loaded[['homeworld', 'unit_type']])\n",
    "\n",
    "X = X.reindex(columns=model.feature_names_in_, fill_value=0)\n",
    "\n",
    "data_loaded['predictions'] = model.predict(X)"
   ]
  },
  {
   "cell_type": "code",
   "execution_count": 17,
   "metadata": {},
   "outputs": [
    {
     "data": {
      "text/html": [
       "<div>\n",
       "<style scoped>\n",
       "    .dataframe tbody tr th:only-of-type {\n",
       "        vertical-align: middle;\n",
       "    }\n",
       "\n",
       "    .dataframe tbody tr th {\n",
       "        vertical-align: top;\n",
       "    }\n",
       "\n",
       "    .dataframe thead th {\n",
       "        text-align: right;\n",
       "    }\n",
       "</style>\n",
       "<table border=\"1\" class=\"dataframe\">\n",
       "  <thead>\n",
       "    <tr style=\"text-align: right;\">\n",
       "      <th></th>\n",
       "      <th>timestamp</th>\n",
       "      <th>unit_id</th>\n",
       "      <th>unit_type</th>\n",
       "      <th>location_x</th>\n",
       "      <th>location_y</th>\n",
       "      <th>destination_x</th>\n",
       "      <th>destination_y</th>\n",
       "      <th>homeworld</th>\n",
       "      <th>predictions</th>\n",
       "    </tr>\n",
       "  </thead>\n",
       "  <tbody>\n",
       "    <tr>\n",
       "      <th>0</th>\n",
       "      <td>2023-06-03 03:19:15</td>\n",
       "      <td>919214</td>\n",
       "      <td>tie_silencer</td>\n",
       "      <td>2.0</td>\n",
       "      <td>5.0</td>\n",
       "      <td>9</td>\n",
       "      <td>3</td>\n",
       "      <td>Aleen Minor</td>\n",
       "      <td>False</td>\n",
       "    </tr>\n",
       "    <tr>\n",
       "      <th>1</th>\n",
       "      <td>2023-02-24 13:50:40</td>\n",
       "      <td>9467154</td>\n",
       "      <td>stormtrooper</td>\n",
       "      <td>9.0</td>\n",
       "      <td>0.0</td>\n",
       "      <td>9</td>\n",
       "      <td>1</td>\n",
       "      <td>Malastare</td>\n",
       "      <td>False</td>\n",
       "    </tr>\n",
       "    <tr>\n",
       "      <th>2</th>\n",
       "      <td>2023-03-29 19:54:55</td>\n",
       "      <td>6585778</td>\n",
       "      <td>tie_silencer</td>\n",
       "      <td>0.0</td>\n",
       "      <td>6.0</td>\n",
       "      <td>5</td>\n",
       "      <td>9</td>\n",
       "      <td>Serenno</td>\n",
       "      <td>False</td>\n",
       "    </tr>\n",
       "    <tr>\n",
       "      <th>3</th>\n",
       "      <td>2023-04-30 00:58:11</td>\n",
       "      <td>3878023</td>\n",
       "      <td>tie_silencer</td>\n",
       "      <td>4.0</td>\n",
       "      <td>2.0</td>\n",
       "      <td>9</td>\n",
       "      <td>9</td>\n",
       "      <td>Tund</td>\n",
       "      <td>False</td>\n",
       "    </tr>\n",
       "    <tr>\n",
       "      <th>4</th>\n",
       "      <td>2023-04-10 22:00:26</td>\n",
       "      <td>5537117</td>\n",
       "      <td>at-st</td>\n",
       "      <td>6.0</td>\n",
       "      <td>8.0</td>\n",
       "      <td>5</td>\n",
       "      <td>8</td>\n",
       "      <td>Skako</td>\n",
       "      <td>False</td>\n",
       "    </tr>\n",
       "  </tbody>\n",
       "</table>\n",
       "</div>"
      ],
      "text/plain": [
       "             timestamp  unit_id     unit_type  location_x  location_y  \\\n",
       "0  2023-06-03 03:19:15   919214  tie_silencer         2.0         5.0   \n",
       "1  2023-02-24 13:50:40  9467154  stormtrooper         9.0         0.0   \n",
       "2  2023-03-29 19:54:55  6585778  tie_silencer         0.0         6.0   \n",
       "3  2023-04-30 00:58:11  3878023  tie_silencer         4.0         2.0   \n",
       "4  2023-04-10 22:00:26  5537117         at-st         6.0         8.0   \n",
       "\n",
       "   destination_x  destination_y    homeworld  predictions  \n",
       "0              9              3  Aleen Minor        False  \n",
       "1              9              1    Malastare        False  \n",
       "2              5              9      Serenno        False  \n",
       "3              9              9         Tund        False  \n",
       "4              5              8        Skako        False  "
      ]
     },
     "execution_count": 17,
     "metadata": {},
     "output_type": "execute_result"
    }
   ],
   "source": [
    "data_loaded.head()"
   ]
  }
 ],
 "metadata": {
  "kernelspec": {
   "display_name": "Python 3",
   "language": "python",
   "name": "python3"
  },
  "language_info": {
   "codemirror_mode": {
    "name": "ipython",
    "version": 3
   },
   "file_extension": ".py",
   "mimetype": "text/x-python",
   "name": "python",
   "nbconvert_exporter": "python",
   "pygments_lexer": "ipython3",
   "version": "3.12.3"
  }
 },
 "nbformat": 4,
 "nbformat_minor": 2
}
