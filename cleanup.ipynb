{
 "cells": [
  {
   "cell_type": "code",
   "execution_count": 1,
   "metadata": {},
   "outputs": [],
   "source": [
    "import pandas as pd"
   ]
  },
  {
   "cell_type": "code",
   "execution_count": 3,
   "metadata": {},
   "outputs": [
    {
     "name": "stdout",
     "output_type": "stream",
     "text": [
      "             timestamp  unit_id     unit_type  location_x  location_y  \\\n",
      "0  2023-06-03 03:19:15   919214  tie_silencer         2.0         5.0   \n",
      "1  2023-02-24 13:50:40  9467154  stormtrooper         9.0         0.0   \n",
      "2  2023-03-29 19:54:55  6585778  tie_silencer         0.0         6.0   \n",
      "3  2023-04-30 00:58:11  3878023  tie_silencer         4.0         2.0   \n",
      "4  2023-04-10 22:00:26  5537117         at-st         6.0         8.0   \n",
      "\n",
      "   destination_x  destination_y    homeworld  \n",
      "0              9              3  Aleen Minor  \n",
      "1              9              1    Malastare  \n",
      "2              5              9      Serenno  \n",
      "3              9              9         Tund  \n",
      "4              5              8        Skako  \n"
     ]
    }
   ],
   "source": [
    "data = pd.read_csv('troop_movements_1m.csv')\n",
    "\n",
    "print(data.head())"
   ]
  },
  {
   "cell_type": "code",
   "execution_count": 5,
   "metadata": {},
   "outputs": [
    {
     "name": "stdout",
     "output_type": "stream",
     "text": [
      "0         False\n",
      "1         False\n",
      "2         False\n",
      "3         False\n",
      "4         False\n",
      "          ...  \n",
      "999995    False\n",
      "999996    False\n",
      "999997    False\n",
      "999998    False\n",
      "999999    False\n",
      "Name: unit_type, Length: 1000000, dtype: bool\n"
     ]
    }
   ],
   "source": [
    "data['unit_type'].str.replace('invalid_unit', 'unknown')"
   ]
  },
  {
   "cell_type": "code",
   "execution_count": null,
   "metadata": {},
   "outputs": [],
   "source": [
    "data['location_x'] = data['location_x'].ffill()\n",
    "data['location_y'] = data['location_y'].ffill()"
   ]
  }
 ],
 "metadata": {
  "kernelspec": {
   "display_name": "Python 3",
   "language": "python",
   "name": "python3"
  },
  "language_info": {
   "codemirror_mode": {
    "name": "ipython",
    "version": 3
   },
   "file_extension": ".py",
   "mimetype": "text/x-python",
   "name": "python",
   "nbconvert_exporter": "python",
   "pygments_lexer": "ipython3",
   "version": "3.12.3"
  }
 },
 "nbformat": 4,
 "nbformat_minor": 2
}
